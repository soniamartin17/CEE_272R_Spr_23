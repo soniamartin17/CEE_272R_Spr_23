{
 "cells": [
  {
   "attachments": {},
   "cell_type": "markdown",
   "metadata": {},
   "source": [
    "### CEE 272R Spr 23 HW 3"
   ]
  },
  {
   "cell_type": "code",
   "execution_count": null,
   "metadata": {},
   "outputs": [],
   "source": [
    "#import necessary packages\n",
    "\n",
    "import numpy as np\n",
    "import pandas as pd\n",
    "import cvxpy as cp\n",
    "import matplotlib.pyplot as plt\n"
   ]
  },
  {
   "attachments": {},
   "cell_type": "markdown",
   "metadata": {},
   "source": [
    "### Problem 1: Import Data"
   ]
  },
  {
   "attachments": {},
   "cell_type": "markdown",
   "metadata": {},
   "source": [
    "### part a"
   ]
  },
  {
   "cell_type": "code",
   "execution_count": null,
   "metadata": {},
   "outputs": [],
   "source": [
    "#import data\n",
    "\n",
    "#TODO\n",
    "#insert code to read in the datafile as a pandas dataframe\n"
   ]
  },
  {
   "attachments": {},
   "cell_type": "markdown",
   "metadata": {},
   "source": [
    "### part b"
   ]
  },
  {
   "cell_type": "code",
   "execution_count": null,
   "metadata": {},
   "outputs": [],
   "source": [
    "#set battery parameters\n",
    "\n",
    "#TODO\n",
    "#create variables for battery total energy, max charge and discharge power, and SOC limits\n",
    "\n"
   ]
  },
  {
   "attachments": {},
   "cell_type": "markdown",
   "metadata": {},
   "source": [
    "### Problem 2: Solar inverter sizing"
   ]
  },
  {
   "attachments": {},
   "cell_type": "markdown",
   "metadata": {},
   "source": [
    "### part a"
   ]
  },
  {
   "cell_type": "code",
   "execution_count": null,
   "metadata": {},
   "outputs": [],
   "source": [
    "#Inverter rating, pf=1\n",
    "#TODO\n"
   ]
  },
  {
   "attachments": {},
   "cell_type": "markdown",
   "metadata": {},
   "source": [
    "### part b"
   ]
  },
  {
   "cell_type": "code",
   "execution_count": null,
   "metadata": {},
   "outputs": [],
   "source": [
    "#Inverter rating, pf=0.9\n",
    "#TODO\n"
   ]
  },
  {
   "attachments": {},
   "cell_type": "markdown",
   "metadata": {},
   "source": [
    "### Problem 3: Initializing CVX Problem"
   ]
  },
  {
   "attachments": {},
   "cell_type": "markdown",
   "metadata": {},
   "source": [
    "### part a"
   ]
  },
  {
   "cell_type": "code",
   "execution_count": null,
   "metadata": {},
   "outputs": [],
   "source": [
    "#initialize variables\n",
    "#TODO\n"
   ]
  },
  {
   "attachments": {},
   "cell_type": "markdown",
   "metadata": {},
   "source": [
    "### part b"
   ]
  },
  {
   "cell_type": "code",
   "execution_count": null,
   "metadata": {},
   "outputs": [],
   "source": [
    "#set objective (obj)\n",
    "#TODO\n"
   ]
  },
  {
   "attachments": {},
   "cell_type": "markdown",
   "metadata": {},
   "source": [
    "### Problem 4: Solve CVX Problem without Solar"
   ]
  },
  {
   "attachments": {},
   "cell_type": "markdown",
   "metadata": {},
   "source": [
    "### part a"
   ]
  },
  {
   "cell_type": "code",
   "execution_count": null,
   "metadata": {},
   "outputs": [],
   "source": [
    "#set constraints\n",
    "constraints = []\n",
    "#TODO\n",
    "\n",
    "\n",
    "\n",
    "#solve the CVX problem (objective variable should be named obj)\n",
    "prob = cp.Problem(cp.Minimize(obj), constraints)\n",
    "total_cost = prob.solve()"
   ]
  },
  {
   "attachments": {},
   "cell_type": "markdown",
   "metadata": {},
   "source": [
    "### part b "
   ]
  },
  {
   "cell_type": "code",
   "execution_count": null,
   "metadata": {},
   "outputs": [],
   "source": [
    "#report total cost and plot\n",
    "\n",
    "#for these plots to appear, you should name the number of timesteps \"timesteps\", input data \"data\", battery power \"batt_output\", and battery SOC \"batt_soc\"\n",
    "#TODO\n",
    "print('The total cost is: ', total_cost)\n",
    "\n",
    "\n",
    "#ploting code\n",
    "plt.figure()\n",
    "plt.plot(np.arange(0,timesteps), data['Loads [kW]'], color = 'tab:green', label='Loads')\n",
    "plt.plot(-batt_output.value,color = 'tab:red',  label='Battery Output')\n",
    "plt.xticks(np.arange(0,24*120+1,120), np.arange(0,49,2))\n",
    "plt.xlabel('Time [hr]')\n",
    "plt.ylabel('Power [kW]')\n",
    "plt.legend()\n",
    "plt.show()\n",
    "\n",
    "plt.figure()\n",
    "plt.plot(batt_soc.value, color = 'tab:blue', label='Battery SOC')\n",
    "plt.xticks(np.arange(0,24*120+1,120), np.arange(0,49,2))\n",
    "plt.xlabel('Time [hr]')\n",
    "plt.ylabel('SOC')\n",
    "plt.legend()\n",
    "plt.show()\n",
    "\n"
   ]
  },
  {
   "attachments": {},
   "cell_type": "markdown",
   "metadata": {},
   "source": [
    "### Problem 5: Solve CVX Problem with Solar"
   ]
  },
  {
   "attachments": {},
   "cell_type": "markdown",
   "metadata": {},
   "source": [
    "### part a"
   ]
  },
  {
   "cell_type": "code",
   "execution_count": null,
   "metadata": {},
   "outputs": [],
   "source": [
    "#set constraints\n",
    "constraints = []\n",
    "#TODO\n",
    "\n",
    "\n",
    "\n",
    "#solve the CVX problem\n",
    "prob = cp.Problem(cp.Minimize(obj), constraints)\n",
    "total_cost = prob.solve()"
   ]
  },
  {
   "attachments": {},
   "cell_type": "markdown",
   "metadata": {},
   "source": [
    "### part b"
   ]
  },
  {
   "cell_type": "code",
   "execution_count": null,
   "metadata": {},
   "outputs": [],
   "source": [
    "#report total cost and plot\n",
    "#TODO\n",
    "print('The total cost is: ', total_cost)\n",
    "\n",
    "#plotting code\n",
    "plt.figure()\n",
    "plt.plot(np.arange(0,timesteps), data['Solar [kW]'], color = 'tab:orange', label='Solar')\n",
    "plt.plot(-batt_output.value,color = 'tab:red',  label='Battery Output')\n",
    "plt.xticks(np.arange(0,24*120+1,120), np.arange(0,49,2))\n",
    "plt.xlabel('Time [hr]')\n",
    "plt.ylabel('Power [kW]')\n",
    "plt.legend()\n",
    "plt.show()\n",
    "\n",
    "#ploting code\n",
    "plt.figure()\n",
    "plt.plot(np.arange(0,timesteps), data['Loads [kW]'], color = 'tab:green', label='Loads')\n",
    "plt.plot(-batt_output.value,color = 'tab:red',  label='Battery Output')\n",
    "plt.xticks(np.arange(0,24*120+1,120), np.arange(0,49,2))\n",
    "plt.xlabel('Time [hr]')\n",
    "plt.ylabel('Power [kW]')\n",
    "plt.legend()\n",
    "plt.show()\n",
    "\n",
    "plt.figure()\n",
    "plt.plot(batt_soc.value, color = 'tab:blue', label='Battery SOC')\n",
    "plt.xticks(np.arange(0,24*120+1,120), np.arange(0,49,2))\n",
    "plt.xlabel('Time [hr]')\n",
    "plt.ylabel('SOC')\n",
    "plt.legend()\n",
    "plt.show()\n",
    "\n"
   ]
  }
 ],
 "metadata": {
  "kernelspec": {
   "display_name": "base",
   "language": "python",
   "name": "python3"
  },
  "language_info": {
   "codemirror_mode": {
    "name": "ipython",
    "version": 3
   },
   "file_extension": ".py",
   "mimetype": "text/x-python",
   "name": "python",
   "nbconvert_exporter": "python",
   "pygments_lexer": "ipython3",
   "version": "3.10.10"
  },
  "orig_nbformat": 4
 },
 "nbformat": 4,
 "nbformat_minor": 2
}
