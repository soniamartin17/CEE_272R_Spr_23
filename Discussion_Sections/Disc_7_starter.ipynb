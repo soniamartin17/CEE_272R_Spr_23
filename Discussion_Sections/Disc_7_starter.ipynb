{
 "cells": [
  {
   "attachments": {},
   "cell_type": "markdown",
   "metadata": {},
   "source": [
    "## Discussion 7"
   ]
  },
  {
   "cell_type": "code",
   "execution_count": null,
   "metadata": {},
   "outputs": [],
   "source": [
    "import numpy as np\n",
    "import cvxpy as cp\n",
    "import matplotlib.pyplot as plt"
   ]
  },
  {
   "attachments": {},
   "cell_type": "markdown",
   "metadata": {},
   "source": [
    "### DCOPF example"
   ]
  },
  {
   "cell_type": "code",
   "execution_count": null,
   "metadata": {},
   "outputs": [],
   "source": [
    "B = np.array([[5, -2, -3],[-2, 3, -1],[-3, -1, 4]])\n",
    "print(B)\n",
    "num_buses=3\n",
    "c1=10\n",
    "c2=30\n",
    "S_base =100"
   ]
  },
  {
   "attachments": {},
   "cell_type": "markdown",
   "metadata": {},
   "source": [
    "Set up DCOPF Example"
   ]
  },
  {
   "cell_type": "code",
   "execution_count": null,
   "metadata": {},
   "outputs": [],
   "source": [
    "slack = 0\n",
    "theta = cp.Variable((num_buses,))\n",
    "P = cp.Variable((num_buses))\n",
    "B_no_slack = np.delete(np.delete(B,0, axis=0), 0, axis=1)\n",
    "load=-40\n",
    "\n",
    "\n",
    "#TODO set obj and constraints\n",
    "\n",
    "\n",
    "\n",
    "\n",
    "prob = cp.Problem(cp.Minimize(obj), constraints)\n",
    "opt_val = prob.solve()\n",
    "\n",
    "P_MW = P.value * S_base\n",
    "theta_sol = theta.value\n",
    "print(P_MW)\n",
    "print(theta_sol/np.pi*180)"
   ]
  },
  {
   "attachments": {},
   "cell_type": "markdown",
   "metadata": {},
   "source": [
    "Adding in phase angle constraints"
   ]
  },
  {
   "cell_type": "code",
   "execution_count": null,
   "metadata": {},
   "outputs": [],
   "source": [
    "\n",
    "slack = 0\n",
    "theta = cp.Variable((num_buses,))\n",
    "P = cp.Variable((num_buses))\n",
    "B_no_slack = np.delete(np.delete(B,0, axis=0), 0, axis=1)\n",
    "load=-40\n",
    "\n",
    "\n",
    "#TODO set obj and constraints, incl phase angle constraints\n",
    "\n",
    "\n",
    "\n",
    "\n",
    "prob = cp.Problem(cp.Minimize(obj), constraints)\n",
    "opt_val = prob.solve()\n",
    "\n",
    "P_MW = P.value * S_base\n",
    "theta_sol = theta.value\n",
    "print(P_MW)\n",
    "print(theta_sol/np.pi*180)"
   ]
  },
  {
   "attachments": {},
   "cell_type": "markdown",
   "metadata": {},
   "source": [
    "Varying the Load"
   ]
  },
  {
   "cell_type": "code",
   "execution_count": null,
   "metadata": {},
   "outputs": [],
   "source": [
    "\n",
    "\n",
    "slack = 0\n",
    "theta = cp.Variable((num_buses,))\n",
    "P = cp.Variable((num_buses))\n",
    "B_no_slack = np.delete(np.delete(B,0, axis=0), 0, axis=1)\n",
    "load=np.linspace(-80, -30, 50)\n",
    "cost_vec = []\n",
    "\n",
    "for load_val in load:\n",
    "    #TODO set obj and constraints\n",
    "\n",
    "\n",
    "\n",
    "\n",
    "    prob = cp.Problem(cp.Minimize(obj), constraints)\n",
    "    opt_val = prob.solve()\n",
    "    cost_vec.append(opt_val)\n",
    "    P_MW = P.value * S_base\n",
    "    theta_sol = theta.value\n",
    "    #print(P_MW)\n",
    "    #print(theta_sol/np.pi*180)"
   ]
  },
  {
   "attachments": {},
   "cell_type": "markdown",
   "metadata": {},
   "source": [
    "Plot"
   ]
  },
  {
   "cell_type": "code",
   "execution_count": null,
   "metadata": {},
   "outputs": [],
   "source": [
    "plt.figure()\n",
    "plt.plot(-load, cost_vec)\n",
    "plt.xlabel('Load [MW]')\n",
    "plt.ylabel('Total Cost')\n",
    "plt.show()\n"
   ]
  },
  {
   "attachments": {},
   "cell_type": "markdown",
   "metadata": {},
   "source": [
    "Merit Order"
   ]
  },
  {
   "cell_type": "code",
   "execution_count": null,
   "metadata": {},
   "outputs": [],
   "source": [
    "#remove theta constraint\n",
    "\n",
    "slack = 0\n",
    "theta = cp.Variable((num_buses,))\n",
    "P = cp.Variable((num_buses))\n",
    "B_no_slack = np.delete(np.delete(B,0, axis=0), 0, axis=1)\n",
    "load=np.linspace(-80, -30, 100)\n",
    "cost_vec = []\n",
    "P_marg =[]\n",
    "\n",
    "for load_val in load:\n",
    "    #TODO set obj and constraints\n",
    "\n",
    "\n",
    "\n",
    "\n",
    "    prob = cp.Problem(cp.Minimize(obj), constraints)\n",
    "    opt_val = prob.solve()\n",
    "    \n",
    "    cost_vec.append(opt_val)\n",
    "    P_MW = P.value * S_base\n",
    "    if P_MW[0]<50:\n",
    "        P_marg.append(c1)\n",
    "    else:\n",
    "        P_marg.append(c2)\n",
    "    theta_sol = theta.value\n",
    "    #print(theta_sol/np.pi*180)"
   ]
  },
  {
   "cell_type": "code",
   "execution_count": null,
   "metadata": {},
   "outputs": [],
   "source": [
    "plt.figure()\n",
    "plt.plot(-load, cost_vec)\n",
    "plt.xlabel('Load [MW]')\n",
    "plt.ylabel('Total Cost')\n",
    "plt.show()\n"
   ]
  },
  {
   "cell_type": "code",
   "execution_count": null,
   "metadata": {},
   "outputs": [],
   "source": [
    "plt.figure()\n",
    "plt.plot(-load, P_marg)\n",
    "plt.xlabel('Load [MW]')\n",
    "plt.ylabel('Marginal Cost')\n",
    "plt.show()"
   ]
  }
 ],
 "metadata": {
  "kernelspec": {
   "display_name": "base",
   "language": "python",
   "name": "python3"
  },
  "language_info": {
   "codemirror_mode": {
    "name": "ipython",
    "version": 3
   },
   "file_extension": ".py",
   "mimetype": "text/x-python",
   "name": "python",
   "nbconvert_exporter": "python",
   "pygments_lexer": "ipython3",
   "version": "3.10.10"
  },
  "orig_nbformat": 4
 },
 "nbformat": 4,
 "nbformat_minor": 2
}
