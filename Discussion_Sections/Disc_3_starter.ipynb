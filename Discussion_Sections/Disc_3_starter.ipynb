{
 "cells": [
  {
   "cell_type": "code",
   "execution_count": null,
   "metadata": {},
   "outputs": [],
   "source": [
    "import numpy as np\n",
    "import matplotlib.pyplot as plt\n",
    "import cvxpy as cp"
   ]
  },
  {
   "attachments": {},
   "cell_type": "markdown",
   "metadata": {},
   "source": [
    "## CVXPY Syntax"
   ]
  },
  {
   "attachments": {},
   "cell_type": "markdown",
   "metadata": {},
   "source": [
    "### Variables"
   ]
  },
  {
   "attachments": {},
   "cell_type": "markdown",
   "metadata": {},
   "source": [
    "Decision variables are defined similar to Numpy arrays and must be defined using the cp.Variable function. Constant data can be defined as usual (with Numpy array)."
   ]
  },
  {
   "cell_type": "code",
   "execution_count": null,
   "metadata": {},
   "outputs": [],
   "source": [
    "#e.g.\n",
    "var_vector_1 = cp.Variable((2,))\n",
    "var_matrix_2 = cp.Variable((4,2))\n",
    "\n",
    "#define constant matrix\n",
    "A = np.ones((2,2))\n",
    "A[1,0]=3\n",
    "A[1,1]=-2"
   ]
  },
  {
   "attachments": {},
   "cell_type": "markdown",
   "metadata": {},
   "source": [
    "### Constraints"
   ]
  },
  {
   "attachments": {},
   "cell_type": "markdown",
   "metadata": {},
   "source": [
    "In Python, the problem constraints are defined as a list. Each list element is a constraint, with either <, <=, >, >=, or == operators between the two expressions. Constraints should be a function of fixed variables/data and cp variables."
   ]
  },
  {
   "cell_type": "code",
   "execution_count": null,
   "metadata": {},
   "outputs": [],
   "source": [
    "#e.g.\n",
    "constraints = []\n",
    "constraints.append(A @ var_vector_1 <=0)\n",
    "constraints.append(var_vector_1>=0)\n"
   ]
  },
  {
   "attachments": {},
   "cell_type": "markdown",
   "metadata": {},
   "source": [
    "### Objective"
   ]
  },
  {
   "attachments": {},
   "cell_type": "markdown",
   "metadata": {},
   "source": [
    "The objective is an expression as a function of fixed variables and previously defined cp variables. Note that certain functions (such as sum and max) are cp functions, not np functions. See https://www.cvxpy.org/tutorial/functions/index.html for an exhaustive list of possible functions!"
   ]
  },
  {
   "cell_type": "code",
   "execution_count": null,
   "metadata": {},
   "outputs": [],
   "source": [
    "#eg\n",
    "obj = cp.max(var_vector_1)"
   ]
  },
  {
   "attachments": {},
   "cell_type": "markdown",
   "metadata": {},
   "source": [
    "### Solving the problem"
   ]
  },
  {
   "attachments": {},
   "cell_type": "markdown",
   "metadata": {},
   "source": [
    "To solve the optimization problem, you first create a cp Problem object, then call the function \"solve\"."
   ]
  },
  {
   "cell_type": "code",
   "execution_count": null,
   "metadata": {},
   "outputs": [],
   "source": [
    "opt_val = cp.Problem(cp.Minimize(obj), constraints)\n",
    "opt_val.solve()\n"
   ]
  },
  {
   "attachments": {},
   "cell_type": "markdown",
   "metadata": {},
   "source": [
    "### DCP Rules"
   ]
  },
  {
   "attachments": {},
   "cell_type": "markdown",
   "metadata": {},
   "source": [
    "CVXPY ensures that the objective and constraints are convex by checking them against a set of disciplined convex programming (DCP) rules. If your problem is not convex, you're not going to get around the DCP rules. However, sometimes the problem is formulated in a non-DCP way and can be rewritten."
   ]
  },
  {
   "attachments": {},
   "cell_type": "markdown",
   "metadata": {},
   "source": [
    "### Reporting Results"
   ]
  },
  {
   "attachments": {},
   "cell_type": "markdown",
   "metadata": {},
   "source": [
    "To report optimal value and variable results, use \"variable.value\" syntax. Remember that the optimal value is of the function you're tryint to minimize, which is different from the optimal values of the decision variables."
   ]
  },
  {
   "cell_type": "code",
   "execution_count": null,
   "metadata": {},
   "outputs": [],
   "source": [
    "print(opt_val.value)\n",
    "print(var_vector_1.value)"
   ]
  },
  {
   "attachments": {},
   "cell_type": "markdown",
   "metadata": {},
   "source": [
    "## CVXPY Example"
   ]
  },
  {
   "attachments": {},
   "cell_type": "markdown",
   "metadata": {},
   "source": [
    "\n",
    "$ \\textrm{minimize} ~c^T x\\\\$\n",
    "$\\textrm{s.t.}\\hspace{2.5em} Ax\\leq b \\\\$\n",
    "\n",
    "Given $A \\in \\mathbb{R}^{m \\times n}, x \\in \\mathbb{R}^{n}, c \\in \\mathbb{R}^{n} , b \\in \\mathbb{R}^{m} , m=15,  n=10 $, write a program to solve this problem. Print out the optimal value and value of x."
   ]
  },
  {
   "attachments": {},
   "cell_type": "markdown",
   "metadata": {},
   "source": [
    "Taken from: https://www.cvxpy.org/examples/basic/linear_program.html"
   ]
  },
  {
   "cell_type": "code",
   "execution_count": null,
   "metadata": {},
   "outputs": [],
   "source": [
    "# Generate a random non-trivial linear program.\n",
    "m = 15\n",
    "n = 10\n",
    "\n",
    "s0 = np.random.randn(m)\n",
    "lamb0 = np.maximum(-s0, 0)\n",
    "\n",
    "x0 = np.random.randn(n)\n",
    "A = np.random.randn(m, n)\n",
    "b = A @ x0 \n",
    "c = -A.T @ lamb0\n",
    "\n",
    "# Define and solve the CVXPY problem.\n",
    "\n",
    "\n"
   ]
  }
 ],
 "metadata": {
  "kernelspec": {
   "display_name": "base",
   "language": "python",
   "name": "python3"
  },
  "language_info": {
   "codemirror_mode": {
    "name": "ipython",
    "version": 3
   },
   "file_extension": ".py",
   "mimetype": "text/x-python",
   "name": "python",
   "nbconvert_exporter": "python",
   "pygments_lexer": "ipython3",
   "version": "3.10.10"
  },
  "orig_nbformat": 4
 },
 "nbformat": 4,
 "nbformat_minor": 2
}
