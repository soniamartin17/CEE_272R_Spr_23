{
  "cells": [
    {
      "cell_type": "markdown",
      "id": "88ea5fd9",
      "metadata": {
        "id": "88ea5fd9"
      },
      "source": [
        "# Homework 5 - Problem 3\n",
        "\n",
        "## Setup\n",
        "\n",
        "You may need to install `pandapower` and `jax`. To do so, run the following commands from the terminal:\n",
        "```\n",
        "pip install --upgrade pip\n",
        "pip install --upgrade \"jax[cpu]\"\n",
        "pip install pandapower\n",
        "```"
      ]
    },
    {
      "cell_type": "code",
      "execution_count": null,
      "id": "fce267f5",
      "metadata": {
        "id": "fce267f5"
      },
      "outputs": [],
      "source": [
        "import pandas as pd\n",
        "import pandapower as pp\n",
        "\n",
        "import numpy as np\n",
        "import cvxpy as cp\n",
        "\n",
        "import jax\n",
        "import jax.numpy as jnp\n",
        "\n",
        "key = jax.random.PRNGKey(0)"
      ]
    },
    {
      "cell_type": "markdown",
      "id": "1e064485",
      "metadata": {
        "id": "1e064485"
      },
      "source": [
        "## Network Data"
      ]
    },
    {
      "cell_type": "code",
      "execution_count": null,
      "id": "d28b949f",
      "metadata": {
        "id": "d28b949f"
      },
      "outputs": [],
      "source": [
        "# Load network\n",
        "net = pp.networks.create_cigre_network_lv()\n",
        "pp.runpp(net)\n",
        "\n",
        "# Construct Ybus matrix\n",
        "Ybus = np.array(net._ppc[\"internal\"][\"Ybus\"].todense())\n",
        "np.fill_diagonal(Ybus, 0)\n",
        "np.fill_diagonal(Ybus, -np.sum(Ybus, axis=1))\n",
        "\n",
        "# Plot\n",
        "pp.plotting.simple_plot(net)"
      ]
    },
    {
      "cell_type": "markdown",
      "id": "0bb74547",
      "metadata": {
        "id": "0bb74547"
      },
      "source": [
        "## DER Data"
      ]
    },
    {
      "cell_type": "code",
      "execution_count": null,
      "id": "0fe26b79",
      "metadata": {
        "id": "0fe26b79"
      },
      "outputs": [],
      "source": [
        "np.random.seed(272)\n",
        "\n",
        "# Dimensions\n",
        "n = Ybus.shape[0]\n",
        "num_loads = n - 1\n",
        "num_subs = 1\n",
        "T = 24\n",
        "\n",
        "# Loads\n",
        "p_load = 0.10 * np.random.rand(num_loads, T)\n",
        "\n",
        "# Solar\n",
        "p_solar = 0.05 * np.random.rand(num_loads, T)\n",
        "\n",
        "# Costs\n",
        "costs = 10 * np.random.rand(num_loads, T)\n",
        "\n",
        "# Storage\n",
        "energy_max = 10.0\n",
        "power_max = 1.0"
      ]
    },
    {
      "cell_type": "markdown",
      "id": "49af2af2",
      "metadata": {
        "id": "49af2af2"
      },
      "source": [
        "## Linearization"
      ]
    },
    {
      "cell_type": "code",
      "execution_count": null,
      "id": "d6856c12",
      "metadata": {
        "id": "d6856c12"
      },
      "outputs": [],
      "source": [
        "def real_power(vmag, theta, Ybus):\n",
        "    V = vmag * jnp.exp(theta * 1j)\n",
        "    return jnp.real(V * jnp.conj(Ybus @ V))\n",
        "\n",
        "jacobian_real_power = jax.jacfwd(real_power, argnums=0)\n",
        "\n",
        "vmag0 = np.ones(n)\n",
        "theta0 = np.zeros(n)\n",
        "\n",
        "# Linear sensitivity of real power to voltage magnitude \n",
        "M = np.array(jacobian_real_power(vmag0, theta0, Ybus))"
      ]
    },
    {
      "cell_type": "markdown",
      "id": "1f9656d6",
      "metadata": {
        "id": "1f9656d6"
      },
      "source": [
        "## Part (a) - Uncoordinated DER optimization\n",
        "\n",
        "Solve the (uncoordinated) DER optimization problem, where each DER operator minimizes their own cost, ignoring power flow constraints."
      ]
    },
    {
      "cell_type": "code",
      "execution_count": null,
      "id": "097f7a45",
      "metadata": {
        "id": "097f7a45"
      },
      "outputs": [],
      "source": [
        "\n",
        "#TODO - formulate and solve CVXPY problem"
      ]
    },
    {
      "cell_type": "markdown",
      "id": "bdd711d0",
      "metadata": {
        "id": "bdd711d0"
      },
      "source": [
        "Report the mean DER cost below."
      ]
    },
    {
      "cell_type": "code",
      "execution_count": null,
      "id": "eceaac79",
      "metadata": {
        "id": "eceaac79"
      },
      "outputs": [],
      "source": [
        "#TODO - report mean DER cost"
      ]
    },
    {
      "cell_type": "markdown",
      "id": "4ebc053b",
      "metadata": {
        "id": "4ebc053b"
      },
      "source": [
        "## Part (b) - Find voltage magnitudes"
      ]
    },
    {
      "cell_type": "code",
      "source": [
        "#TODO - formulate and solve CVXPY problem with power flow constraints"
      ],
      "metadata": {
        "id": "sO4zV-AwqOVT"
      },
      "id": "sO4zV-AwqOVT",
      "execution_count": null,
      "outputs": []
    },
    {
      "cell_type": "code",
      "execution_count": null,
      "id": "8539040e",
      "metadata": {
        "id": "8539040e"
      },
      "outputs": [],
      "source": [
        "epsilon = 0.04"
      ]
    },
    {
      "cell_type": "markdown",
      "id": "a376bce9",
      "metadata": {
        "id": "a376bce9"
      },
      "source": [
        "Report the mean voltage deviation below."
      ]
    },
    {
      "cell_type": "code",
      "execution_count": null,
      "id": "a2d2e67b",
      "metadata": {
        "id": "a2d2e67b"
      },
      "outputs": [],
      "source": [
        "#TODO calculate mean voltage"
      ]
    },
    {
      "cell_type": "markdown",
      "id": "fe68ad33",
      "metadata": {
        "id": "fe68ad33"
      },
      "source": [
        "## Part (c) - Coordinated DER Optimization\n",
        "\n",
        "Solve the (coordinated) DER optimization problem, where a system operator minimizes the weighted sum of total cost and voltage deivations, subject to power flow constraints."
      ]
    },
    {
      "cell_type": "code",
      "execution_count": null,
      "id": "d5c184c7",
      "metadata": {
        "id": "d5c184c7"
      },
      "outputs": [],
      "source": [
        "lambda_voltage = 25.0"
      ]
    },
    {
      "cell_type": "code",
      "execution_count": null,
      "id": "989b0332",
      "metadata": {
        "id": "989b0332"
      },
      "outputs": [],
      "source": [
        "#TODO - formulate and solve weighted sum CVX problem"
      ]
    },
    {
      "cell_type": "markdown",
      "id": "a3baacf6",
      "metadata": {
        "id": "a3baacf6"
      },
      "source": [
        "Report the mean DER cost below."
      ]
    },
    {
      "cell_type": "code",
      "execution_count": null,
      "id": "76d1c712",
      "metadata": {
        "id": "76d1c712"
      },
      "outputs": [],
      "source": [
        "#TODO - mean DER cost"
      ]
    },
    {
      "cell_type": "markdown",
      "id": "48534eae",
      "metadata": {
        "id": "48534eae"
      },
      "source": [
        "Report the mean square voltage deviation below."
      ]
    },
    {
      "cell_type": "code",
      "execution_count": null,
      "id": "a958f06a",
      "metadata": {
        "id": "a958f06a"
      },
      "outputs": [],
      "source": [
        "#TODO - mean voltage deviation"
      ]
    },
    {
      "cell_type": "markdown",
      "source": [
        "TODO - comment on values"
      ],
      "metadata": {
        "id": "dOWAQa6dx6jx"
      },
      "id": "dOWAQa6dx6jx"
    }
  ],
  "metadata": {
    "kernelspec": {
      "display_name": "Python 3 (ipykernel)",
      "language": "python",
      "name": "python3"
    },
    "language_info": {
      "codemirror_mode": {
        "name": "ipython",
        "version": 3
      },
      "file_extension": ".py",
      "mimetype": "text/x-python",
      "name": "python",
      "nbconvert_exporter": "python",
      "pygments_lexer": "ipython3",
      "version": "3.8.2"
    },
    "colab": {
      "provenance": []
    }
  },
  "nbformat": 4,
  "nbformat_minor": 5
}