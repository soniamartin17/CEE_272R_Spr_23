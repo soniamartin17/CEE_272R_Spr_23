{
  "cells": [
    {
      "attachments": {},
      "cell_type": "markdown",
      "metadata": {
        "id": "rjciKpg-Gzx-"
      },
      "source": [
        "# Homework 5 - Problem 2\n",
        "\n",
        "## Setup\n",
        "\n",
        "You may need to install `pypower` and `pypsa`. To do so, run the following commands from the terminal:\n",
        "```\n",
        "pip install --upgrade pip\n",
        "pip install pypsa\n",
        "pip install pypower\n",
        "```\n",
        "In Google Colab, these commands will look like:\n",
        "```\n",
        "!pip install --upgrade pip\n",
        "\n",
        "\n",
        "```"
      ]
    },
    {
      "attachments": {},
      "cell_type": "markdown",
      "metadata": {
        "id": "4BOgDiTZ75AC"
      },
      "source": [
        "## part a"
      ]
    },
    {
      "cell_type": "code",
      "execution_count": null,
      "metadata": {
        "id": "iK05Brl0x24y"
      },
      "outputs": [],
      "source": [
        "import pypsa\n",
        "import numpy as np\n",
        "import matplotlib.pyplot as plt\n",
        "import pypower"
      ]
    },
    {
      "cell_type": "code",
      "execution_count": null,
      "metadata": {
        "id": "5stZ8L86ylQE"
      },
      "outputs": [],
      "source": [
        "from pypower.api import case14 as case\n",
        "ppc = case()\n",
        "network = pypsa.Network()\n",
        "network.import_from_pypower_ppc(ppc)\n",
        "\n",
        "#TODO - run power flow, report P, Q, V, theta on bus 2\n",
        "\n",
        "\n"
      ]
    },
    {
      "attachments": {},
      "cell_type": "markdown",
      "metadata": {
        "id": "Kg7HldKC2G6B"
      },
      "source": [
        "### part b"
      ]
    },
    {
      "cell_type": "code",
      "execution_count": null,
      "metadata": {
        "id": "GvrvSCTM2JC-"
      },
      "outputs": [],
      "source": [
        "#TODO set bus 10 to consume 20p.u., run power flow, report P at bus 2\n",
        "\n"
      ]
    },
    {
      "attachments": {},
      "cell_type": "markdown",
      "metadata": {
        "id": "jazC9nfe-Wbg"
      },
      "source": [
        "### part c"
      ]
    },
    {
      "cell_type": "code",
      "execution_count": null,
      "metadata": {
        "id": "6PUnm5T0-YEf"
      },
      "outputs": [],
      "source": [
        "#TODO find real power limit at bus 10\n"
      ]
    },
    {
      "attachments": {},
      "cell_type": "markdown",
      "metadata": {
        "id": "KAMLpGF3-aph"
      },
      "source": [
        "### part d"
      ]
    },
    {
      "cell_type": "code",
      "execution_count": null,
      "metadata": {
        "id": "4LNRShkp-b0d"
      },
      "outputs": [],
      "source": [
        "#TODO plot & comment\n"
      ]
    }
  ],
  "metadata": {
    "colab": {
      "provenance": []
    },
    "kernelspec": {
      "display_name": "Python 3",
      "name": "python3"
    },
    "language_info": {
      "name": "python"
    }
  },
  "nbformat": 4,
  "nbformat_minor": 0
}
