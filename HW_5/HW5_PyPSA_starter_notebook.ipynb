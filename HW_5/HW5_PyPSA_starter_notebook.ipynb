{
  "nbformat": 4,
  "nbformat_minor": 0,
  "metadata": {
    "colab": {
      "provenance": []
    },
    "kernelspec": {
      "name": "python3",
      "display_name": "Python 3"
    },
    "language_info": {
      "name": "python"
    }
  },
  "cells": [
    {
      "cell_type": "markdown",
      "source": [
        "# Homework 5 - Problem 2\n",
        "\n",
        "## Setup\n",
        "\n",
        "You may need to install `pypower` and `pypsa`. To do so, run the following commands from the terminal:\n",
        "```\n",
        "pip install --upgrade pip\n",
        "pip install pypsa\n",
        "pip install pypower\n",
        "```\n",
        "In Google Colab, these commands will look like:\n",
        "```\n",
        "!pip install --upgrade pip\n",
        "\n",
        "\n",
        "```"
      ],
      "metadata": {
        "id": "rjciKpg-Gzx-"
      }
    },
    {
      "cell_type": "markdown",
      "source": [
        "## part a"
      ],
      "metadata": {
        "id": "4BOgDiTZ75AC"
      }
    },
    {
      "cell_type": "code",
      "execution_count": null,
      "metadata": {
        "id": "iK05Brl0x24y"
      },
      "outputs": [],
      "source": [
        "import pypsa\n",
        "import numpy as np\n",
        "import matplotlib.pyplot as plt\n",
        "import pypower"
      ]
    },
    {
      "cell_type": "code",
      "source": [
        "from pypower.api import case14 as case\n",
        "ppc = case()\n",
        "network = pypsa.Network()\n",
        "network.import_from_pypower_ppc(ppc)\n",
        "\n",
        "#TODO - run power flow, report P, Q, V, theta on bus 2\n",
        "\n",
        "\n"
      ],
      "metadata": {
        "id": "5stZ8L86ylQE"
      },
      "execution_count": null,
      "outputs": []
    },
    {
      "cell_type": "markdown",
      "source": [
        "### part b"
      ],
      "metadata": {
        "id": "Kg7HldKC2G6B"
      }
    },
    {
      "cell_type": "code",
      "source": [
        "#TODO set bus 10 to consume 20p.u., run power flow, report P at bus 6\n",
        "\n"
      ],
      "metadata": {
        "id": "GvrvSCTM2JC-"
      },
      "execution_count": null,
      "outputs": []
    },
    {
      "cell_type": "markdown",
      "source": [
        "### part c"
      ],
      "metadata": {
        "id": "jazC9nfe-Wbg"
      }
    },
    {
      "cell_type": "code",
      "source": [
        "#TODO find real power limit at bus 6\n"
      ],
      "metadata": {
        "id": "6PUnm5T0-YEf"
      },
      "execution_count": null,
      "outputs": []
    },
    {
      "cell_type": "markdown",
      "source": [
        "### part d"
      ],
      "metadata": {
        "id": "KAMLpGF3-aph"
      }
    },
    {
      "cell_type": "code",
      "source": [
        "#TODO plot & comment\n"
      ],
      "metadata": {
        "id": "4LNRShkp-b0d"
      },
      "execution_count": null,
      "outputs": []
    }
  ]
}