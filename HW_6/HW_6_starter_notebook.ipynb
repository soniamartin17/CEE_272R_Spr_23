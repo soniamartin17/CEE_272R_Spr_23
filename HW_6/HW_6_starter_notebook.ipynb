{
 "cells": [
  {
   "attachments": {},
   "cell_type": "markdown",
   "metadata": {},
   "source": [
    "## Homework 6, Problem 1"
   ]
  },
  {
   "attachments": {},
   "cell_type": "markdown",
   "metadata": {},
   "source": [
    "### part b"
   ]
  },
  {
   "cell_type": "code",
   "execution_count": null,
   "metadata": {},
   "outputs": [],
   "source": [
    "import numpy as np\n",
    "import cvxpy as cp\n",
    "import matplotlib.pyplot as plt\n",
    "num_buses = 5\n",
    "Y_bus = np.zeros((num_buses,num_buses), dtype=complex)\n",
    "Y_bus[1,3] =  -1.3 + 5.6 * 1j\n",
    "Y_bus[3,1] =  Y_bus[1,3]\n",
    "Y_bus[2,3] = -1.15 + 9.8j\n",
    "Y_bus[3,2] =  Y_bus[2,3]\n",
    "Y_bus[3,4] = -1.4 + 11.6j\n",
    "Y_bus[4,3] = Y_bus[3,4]\n",
    "\n",
    "\n",
    "#TODO - fill in Ybus entries for last 2 lines & fill in diagonals\n",
    "\n",
    "    \n",
    "print(Y_bus)"
   ]
  },
  {
   "attachments": {},
   "cell_type": "markdown",
   "metadata": {},
   "source": [
    "### part c"
   ]
  },
  {
   "cell_type": "code",
   "execution_count": null,
   "metadata": {},
   "outputs": [],
   "source": [
    "S_base = 100 #MVA\n",
    "B = np.imag(Y_bus)\n",
    "P = np.array([0, 163, -90, -100, -125])/S_base\n",
    "B_no_slack = np.delete(np.delete(B,0, axis=0), 0, axis=1)\n",
    "P_no_slack = P[1:]\n",
    "\n",
    "#TODO solve for theta_no_slack using the DC PF eqn\n",
    "\n",
    "\n",
    "theta = np.concatenate(([0], theta_no_slack), axis=0)\n",
    "print(theta/np.pi*180)\n"
   ]
  },
  {
   "attachments": {},
   "cell_type": "markdown",
   "metadata": {},
   "source": [
    "### part d"
   ]
  },
  {
   "cell_type": "code",
   "execution_count": null,
   "metadata": {},
   "outputs": [],
   "source": [
    "S_base = 100\n",
    "#TODO write code to print out branch flow\n"
   ]
  },
  {
   "attachments": {},
   "cell_type": "markdown",
   "metadata": {},
   "source": [
    "### part e"
   ]
  },
  {
   "cell_type": "code",
   "execution_count": null,
   "metadata": {},
   "outputs": [],
   "source": [
    "slack = 0\n",
    "theta = cp.Variable((num_buses,))\n",
    "P = cp.Variable((num_buses))\n",
    "\n",
    "\n",
    "#TODO set obj and constraints\n",
    "\n",
    "\n",
    "\n",
    "\n",
    "prob = cp.Problem(cp.Minimize(obj), constraints)\n",
    "opt_val = prob.solve()\n",
    "\n",
    "P_MW = P.value * S_base\n",
    "theta_sol = theta.value\n",
    "print(P_MW)\n",
    "print(theta_sol/np.pi*180)\n",
    "\n"
   ]
  },
  {
   "attachments": {},
   "cell_type": "markdown",
   "metadata": {},
   "source": [
    "### part f"
   ]
  },
  {
   "cell_type": "code",
   "execution_count": null,
   "metadata": {},
   "outputs": [],
   "source": [
    "line_limit = np.linspace(110, 180, 50) #MW\n",
    "P_B = []\n",
    "P_F = []\n",
    "\n",
    "#TODO Write a for loop to run DCOPF while adding a line constraint. Save gen values in P_B and P_F.\n",
    "    \n",
    "    \n",
    "    "
   ]
  },
  {
   "attachments": {},
   "cell_type": "markdown",
   "metadata": {},
   "source": [
    "### part g"
   ]
  },
  {
   "cell_type": "code",
   "execution_count": null,
   "metadata": {},
   "outputs": [],
   "source": [
    "plt.figure()\n",
    "plt.plot(line_limit, np.array(P_B), label='Bakersfield')\n",
    "plt.plot(line_limit, np.array(P_F), label='Fresno')\n",
    "plt.title('Generator Power vs. Fresno-San Jose Line Limit')\n",
    "plt.xlabel('Line Limit [MW]')\n",
    "plt.ylabel('Generation [MW]')\n",
    "plt.legend()\n",
    "plt.show()\n",
    "\n",
    "#TODO add comment\n"
   ]
  }
 ],
 "metadata": {
  "kernelspec": {
   "display_name": "base",
   "language": "python",
   "name": "python3"
  },
  "language_info": {
   "codemirror_mode": {
    "name": "ipython",
    "version": 3
   },
   "file_extension": ".py",
   "mimetype": "text/x-python",
   "name": "python",
   "nbconvert_exporter": "python",
   "pygments_lexer": "ipython3",
   "version": "3.10.10"
  },
  "orig_nbformat": 4
 },
 "nbformat": 4,
 "nbformat_minor": 2
}
